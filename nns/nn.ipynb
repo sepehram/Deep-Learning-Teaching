{
 "cells": [
  {
   "cell_type": "code",
   "execution_count": 26,
   "id": "8fda4626-bd86-4b2e-bc9f-8eaddb480cd6",
   "metadata": {},
   "outputs": [],
   "source": [
    "import torch\n",
    "import numpy as np\n",
    "import torch.optim as optim\n",
    "\n",
    "t_c = [0.5,  14.0, 15.0, 28.0, 11.0,  8.0,  3.0, -4.0,  6.0, 13.0, 21.0]\n",
    "t_u = [35.7, 55.9, 58.2, 81.9, 56.3, 48.9, 33.9, 21.8, 48.4, 60.4, 68.4]\n",
    "\n",
    "t_c = torch.tensor(t_c).unsqueeze(1)\n",
    "t_u = torch.tensor(t_u).unsqueeze(1)\n",
    "\n",
    "n_samples = t_u.shape[0]\n",
    "n_val = int(0.2 * n_samples)\n",
    "\n",
    "random_indexes = torch.randperm(n_samples)\n",
    "t_c_train = t_c[random_indexes[:-n_val]]\n",
    "t_c_val = t_c[random_indexes[-n_val:]]\n",
    "t_u_train = t_u[random_indexes[:-n_val]]\n",
    "t_u_val = t_u[random_indexes[-n_val:]]\n",
    "\n",
    "t_un_train = 0.1 * t_u_train\n",
    "t_un_val = 0.1 * t_u_val"
   ]
  },
  {
   "cell_type": "code",
   "execution_count": 27,
   "id": "85cc7115-925a-4dcb-9057-a94098149057",
   "metadata": {},
   "outputs": [
    {
     "data": {
      "text/plain": [
       "torch.Size([2, 1])"
      ]
     },
     "execution_count": 27,
     "metadata": {},
     "output_type": "execute_result"
    }
   ],
   "source": [
    "t_un_val.shape"
   ]
  },
  {
   "cell_type": "code",
   "execution_count": 32,
   "id": "4477a22c-98b1-49f9-abe3-580447fc6ec6",
   "metadata": {},
   "outputs": [
    {
     "data": {
      "text/plain": [
       "(Parameter containing:\n",
       " tensor([[0.8444]], requires_grad=True),\n",
       " Parameter containing:\n",
       " tensor([0.8391], requires_grad=True),\n",
       " [Parameter containing:\n",
       "  tensor([[0.8444]], requires_grad=True),\n",
       "  Parameter containing:\n",
       "  tensor([0.8391], requires_grad=True)])"
      ]
     },
     "execution_count": 32,
     "metadata": {},
     "output_type": "execute_result"
    }
   ],
   "source": [
    "import torch.nn as nn\n",
    "\n",
    "linear_model = nn.Linear(1,1) #1 input, 1 output\n",
    "linear_model.weight, linear_model.bias, list(linear_model.parameters())\n",
    "\n",
    "#linear_model(t_un_train)"
   ]
  },
  {
   "cell_type": "code",
   "execution_count": 30,
   "id": "5defd8a2-441a-49ea-a547-db88781a8c65",
   "metadata": {},
   "outputs": [],
   "source": [
    "def training_loop(n_epochs, optimizer, model, loss_fn, t_u_train, t_u_val, t_c_train, t_c_val):\n",
    "    for epoch in range(1, 1 + n_epochs):\n",
    "        t_p_train = model(t_u_train)\n",
    "        t_p_val = model(t_u_val)\n",
    "        \n",
    "        loss_train = loss_fn(t_p_train, t_c_train)\n",
    "        loss_val = loss_fn(t_p_val, t_c_val)\n",
    "        \n",
    "        optimizer.zero_grad()\n",
    "        loss_train.backward()\n",
    "        optimizer.step()\n",
    "        \n",
    "        if epoch <=5 or epoch % 1000 == 0:\n",
    "            print('epoch %d, training loss %f, validation loss %f' %(epoch, loss_train, loss_val))"
   ]
  },
  {
   "cell_type": "code",
   "execution_count": 34,
   "id": "a046f104-8b85-4bc4-aa5f-a449d6d75b64",
   "metadata": {},
   "outputs": [
    {
     "name": "stdout",
     "output_type": "stream",
     "text": [
      "epoch 1, training loss 3.287631, validation loss 1.328355\n",
      "epoch 2, training loss 3.287631, validation loss 1.328355\n",
      "epoch 3, training loss 3.287631, validation loss 1.328355\n",
      "epoch 4, training loss 3.287631, validation loss 1.328355\n",
      "epoch 5, training loss 3.287631, validation loss 1.328355\n",
      "epoch 1000, training loss 3.287631, validation loss 1.328355\n",
      "epoch 2000, training loss 3.287631, validation loss 1.328355\n",
      "epoch 3000, training loss 3.287631, validation loss 1.328355\n",
      "epoch 4000, training loss 3.287631, validation loss 1.328355\n",
      "epoch 5000, training loss 3.287631, validation loss 1.328355\n",
      "epoch 6000, training loss 3.287631, validation loss 1.328355\n",
      "epoch 7000, training loss 3.287631, validation loss 1.328355\n",
      "epoch 8000, training loss 3.287631, validation loss 1.328355\n",
      "epoch 9000, training loss 3.287631, validation loss 1.328355\n",
      "epoch 10000, training loss 3.287631, validation loss 1.328355\n"
     ]
    }
   ],
   "source": [
    "training_loop(n_epochs=10000,\n",
    "              optimizer=optim.SGD(linear_model.parameters(), lr = 0.01),\n",
    "              model = linear_model,\n",
    "              loss_fn = nn.MSELoss(),\n",
    "              t_c_train = t_c_train,\n",
    "              t_c_val= t_c_val,\n",
    "              t_u_train = t_un_train,\n",
    "              t_u_val = t_un_val)"
   ]
  },
  {
   "cell_type": "code",
   "execution_count": 36,
   "id": "ab96a76d-75cc-4761-a62e-2b9de1f874dc",
   "metadata": {},
   "outputs": [
    {
     "data": {
      "text/plain": [
       "(Parameter containing:\n",
       " tensor([[5.3388]], requires_grad=True),\n",
       " Parameter containing:\n",
       " tensor([-17.1946], requires_grad=True))"
      ]
     },
     "execution_count": 36,
     "metadata": {},
     "output_type": "execute_result"
    }
   ],
   "source": [
    "linear_model.weight, linear_model.bias"
   ]
  },
  {
   "cell_type": "code",
   "execution_count": 82,
   "id": "3fceed3b-b89a-4bb8-abac-63036ca2b8ba",
   "metadata": {},
   "outputs": [
    {
     "data": {
      "text/plain": [
       "[torch.Size([13, 1]), torch.Size([13]), torch.Size([1, 13]), torch.Size([1])]"
      ]
     },
     "execution_count": 82,
     "metadata": {},
     "output_type": "execute_result"
    }
   ],
   "source": [
    "seq_model = nn.Sequential(\n",
    "        nn.Linear(1,13), #1 input feature, 13 output features, bias is on\n",
    "                         #13 neurons each having 1 weight and 1 bias\n",
    "        nn.Tanh(),\n",
    "        nn.Linear(13,1)) #13 input feature, 1 output feature, bias is on\n",
    "                         #1 neuoron consisting of 13 weights and 1 bias\n",
    "\n",
    "[param.shape for param in list(seq_model.parameters())]"
   ]
  },
  {
   "cell_type": "code",
   "execution_count": 50,
   "id": "08984eb3-59fe-456e-86a2-2adde66fe792",
   "metadata": {},
   "outputs": [
    {
     "data": {
      "text/plain": [
       "[('0.weight',\n",
       "  Parameter containing:\n",
       "  tensor([[ 0.6249],\n",
       "          [-0.9309],\n",
       "          [ 0.7226],\n",
       "          [-0.6676],\n",
       "          [ 0.7355],\n",
       "          [-0.8487],\n",
       "          [-0.8656],\n",
       "          [-0.8276],\n",
       "          [-0.2112],\n",
       "          [ 0.3990],\n",
       "          [ 0.9325],\n",
       "          [-0.7942],\n",
       "          [ 0.5249]], requires_grad=True)),\n",
       " ('0.bias',\n",
       "  Parameter containing:\n",
       "  tensor([ 0.9980,  0.2400,  0.1347,  0.6745,  0.6173, -0.0554,  0.2223, -0.5251,\n",
       "          -0.3510,  0.3822,  0.5213, -0.9586, -0.3138], requires_grad=True)),\n",
       " ('2.weight',\n",
       "  Parameter containing:\n",
       "  tensor([[-0.0745, -0.1497,  0.0441, -0.0682, -0.1451,  0.0351,  0.0821,  0.2277,\n",
       "            0.1167,  0.0449,  0.1321,  0.2600, -0.1151]], requires_grad=True)),\n",
       " ('2.bias',\n",
       "  Parameter containing:\n",
       "  tensor([0.1856], requires_grad=True))]"
      ]
     },
     "execution_count": 50,
     "metadata": {},
     "output_type": "execute_result"
    }
   ],
   "source": [
    "list(seq_model.named_parameters())"
   ]
  },
  {
   "cell_type": "code",
   "execution_count": 57,
   "id": "4ad6616f-8e57-41c2-bbe7-47a786a6b10a",
   "metadata": {},
   "outputs": [
    {
     "data": {
      "text/plain": [
       "(Parameter containing:\n",
       " tensor([[-0.8492],\n",
       "         [ 0.6658],\n",
       "         [-0.0822],\n",
       "         [-0.7200],\n",
       "         [-0.8459],\n",
       "         [-0.9568],\n",
       "         [-0.9336],\n",
       "         [ 0.8192],\n",
       "         [-0.0536]], requires_grad=True),\n",
       " Parameter containing:\n",
       " tensor([0.1565], requires_grad=True))"
      ]
     },
     "execution_count": 57,
     "metadata": {},
     "output_type": "execute_result"
    }
   ],
   "source": [
    "from collections import OrderedDict\n",
    "seq_model_2 = nn.Sequential(OrderedDict([\n",
    "        ('hidden_linear', nn.Linear(1,9)),\n",
    "        ('hidden_activation', nn.Tanh()),\n",
    "        ('output_linear', nn.Linear(9,1))\n",
    "    ]))\n",
    "\n",
    "seq_model_2\n",
    "seq_model_2.hidden_linear.weight, seq_model_2.output_linear.bias"
   ]
  },
  {
   "cell_type": "code",
   "execution_count": 83,
   "id": "52970802-9af4-442d-880b-bbfb4182023f",
   "metadata": {},
   "outputs": [
    {
     "name": "stdout",
     "output_type": "stream",
     "text": [
      "epoch 1, training loss 180.685059, validation loss 110.184883\n",
      "epoch 2, training loss 137.278076, validation loss 65.195236\n",
      "epoch 3, training loss 112.600166, validation loss 39.704937\n",
      "epoch 4, training loss 98.697594, validation loss 25.690804\n",
      "epoch 5, training loss 90.551460, validation loss 18.098091\n",
      "epoch 1000, training loss 6.616647, validation loss 9.056532\n",
      "epoch 2000, training loss 2.388227, validation loss 8.059824\n",
      "epoch 3000, training loss 1.531468, validation loss 6.632283\n",
      "epoch 4000, training loss 1.393967, validation loss 6.173790\n",
      "epoch 5000, training loss 1.330783, validation loss 5.852991\n",
      "epoch 6000, training loss 1.291208, validation loss 5.593843\n",
      "epoch 7000, training loss 1.268069, validation loss 5.422253\n",
      "epoch 8000, training loss 1.251000, validation loss 5.295042\n",
      "epoch 9000, training loss 1.234409, validation loss 5.164170\n",
      "epoch 10000, training loss 1.220584, validation loss 5.053282\n"
     ]
    }
   ],
   "source": [
    "training_loop(n_epochs=10000,\n",
    "              optimizer=optim.SGD(seq_model.parameters(), lr=0.01),\n",
    "              model = seq_model,\n",
    "              loss_fn=nn.MSELoss(),\n",
    "              t_u_train=t_un_train,\n",
    "              t_u_val=t_un_val,\n",
    "              t_c_train=t_c_train,\n",
    "              t_c_val=t_c_val)"
   ]
  },
  {
   "cell_type": "code",
   "execution_count": 84,
   "id": "99c8bf92-938e-4b33-91eb-349dcd7e4441",
   "metadata": {},
   "outputs": [],
   "source": [
    "list(seq_model.parameters())\n",
    "\n",
    "t_p = seq_model(t_u * 0.1)"
   ]
  },
  {
   "cell_type": "code",
   "execution_count": 72,
   "id": "5845b9e9-08c0-44cc-991f-15fdde34fc38",
   "metadata": {},
   "outputs": [
    {
     "data": {
      "text/plain": [
       "torch.Size([70, 1])"
      ]
     },
     "execution_count": 72,
     "metadata": {},
     "output_type": "execute_result"
    }
   ],
   "source": [
    "range_t = torch.arange(20,90).unsqueeze(1)\n",
    "range_t.shape"
   ]
  },
  {
   "cell_type": "code",
   "execution_count": 85,
   "id": "680c9386-3933-47ab-9fb3-e7e8b25e17a3",
   "metadata": {},
   "outputs": [
    {
     "data": {
      "text/plain": [
       "[<matplotlib.lines.Line2D at 0x11c20c700>]"
      ]
     },
     "execution_count": 85,
     "metadata": {},
     "output_type": "execute_result"
    },
    {
     "data": {
      "image/png": "[encoded data removed]",
      "text/plain": [
       "<Figure size 640x480 with 1 Axes>"
      ]
     },
     "metadata": {},
     "output_type": "display_data"
    }
   ],
   "source": [
    "from matplotlib import pyplot as plt\n",
    "\n",
    "plt.figure(dpi=100)\n",
    "plt.xlabel('measurements')\n",
    "plt.ylabel('celcius')\n",
    "plt.plot(range_t.numpy(), seq_model(range_t * 0.1).detach().numpy())\n",
    "plt.plot(t_u.numpy(), t_p.detach().numpy(),'x')\n",
    "plt.plot(t_u.numpy(), t_c.numpy(), 'o')"
   ]
  },
  {
   "cell_type": "code",
   "execution_count": null,
   "id": "8fbf7727-3728-45a8-8813-f313b31a8993",
   "metadata": {},
   "outputs": [],
   "source": []
  }
 ],
 "metadata": {
  "kernelspec": {
   "display_name": "Python 3 (ipykernel)",
   "language": "python",
   "name": "python3"
  },
  "language_info": {
   "codemirror_mode": {
    "name": "ipython",
    "version": 3
   },
   "file_extension": ".py",
   "mimetype": "text/x-python",
   "name": "python",
   "nbconvert_exporter": "python",
   "pygments_lexer": "ipython3",
   "version": "3.9.6"
  }
 },
 "nbformat": 4,
 "nbformat_minor": 5
}
