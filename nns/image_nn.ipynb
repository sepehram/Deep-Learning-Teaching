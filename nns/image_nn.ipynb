{
 "cells": [
  {
   "cell_type": "code",
   "execution_count": 2,
   "id": "26762ac5-d780-437b-b160-280f678376e9",
   "metadata": {},
   "outputs": [
    {
     "data": {
      "text/plain": [
       "['CIFAR10',\n",
       " 'CIFAR100',\n",
       " 'CLEVRClassification',\n",
       " 'Caltech101',\n",
       " 'Caltech256',\n",
       " 'CelebA',\n",
       " 'Cityscapes',\n",
       " 'CocoCaptions',\n",
       " 'CocoDetection',\n",
       " 'Country211',\n",
       " 'DTD',\n",
       " 'DatasetFolder',\n",
       " 'EMNIST',\n",
       " 'EuroSAT',\n",
       " 'FER2013',\n",
       " 'FGVCAircraft',\n",
       " 'FakeData',\n",
       " 'FashionMNIST',\n",
       " 'Flickr30k',\n",
       " 'Flickr8k',\n",
       " 'Flowers102',\n",
       " 'FlyingChairs',\n",
       " 'FlyingThings3D',\n",
       " 'Food101',\n",
       " 'GTSRB',\n",
       " 'HD1K',\n",
       " 'HMDB51',\n",
       " 'INaturalist',\n",
       " 'ImageFolder',\n",
       " 'ImageNet',\n",
       " 'KMNIST',\n",
       " 'Kinetics',\n",
       " 'Kinetics400',\n",
       " 'Kitti',\n",
       " 'KittiFlow',\n",
       " 'LFWPairs',\n",
       " 'LFWPeople',\n",
       " 'LSUN',\n",
       " 'LSUNClass',\n",
       " 'MNIST',\n",
       " 'Omniglot',\n",
       " 'OxfordIIITPet',\n",
       " 'PCAM',\n",
       " 'PhotoTour',\n",
       " 'Places365',\n",
       " 'QMNIST',\n",
       " 'RenderedSST2',\n",
       " 'SBDataset',\n",
       " 'SBU',\n",
       " 'SEMEION',\n",
       " 'STL10',\n",
       " 'SUN397',\n",
       " 'SVHN',\n",
       " 'Sintel',\n",
       " 'StanfordCars',\n",
       " 'UCF101',\n",
       " 'USPS',\n",
       " 'VOCDetection',\n",
       " 'VOCSegmentation',\n",
       " 'VisionDataset',\n",
       " 'WIDERFace',\n",
       " '__all__',\n",
       " '__builtins__',\n",
       " '__cached__',\n",
       " '__doc__',\n",
       " '__file__',\n",
       " '__loader__',\n",
       " '__name__',\n",
       " '__package__',\n",
       " '__path__',\n",
       " '__spec__',\n",
       " '_optical_flow',\n",
       " 'caltech',\n",
       " 'celeba',\n",
       " 'cifar',\n",
       " 'cityscapes',\n",
       " 'clevr',\n",
       " 'coco',\n",
       " 'country211',\n",
       " 'dtd',\n",
       " 'eurosat',\n",
       " 'fakedata',\n",
       " 'fer2013',\n",
       " 'fgvc_aircraft',\n",
       " 'flickr',\n",
       " 'flowers102',\n",
       " 'folder',\n",
       " 'food101',\n",
       " 'gtsrb',\n",
       " 'hmdb51',\n",
       " 'imagenet',\n",
       " 'inaturalist',\n",
       " 'kinetics',\n",
       " 'kitti',\n",
       " 'lfw',\n",
       " 'lsun',\n",
       " 'mnist',\n",
       " 'omniglot',\n",
       " 'oxford_iiit_pet',\n",
       " 'pcam',\n",
       " 'phototour',\n",
       " 'places365',\n",
       " 'rendered_sst2',\n",
       " 'sbd',\n",
       " 'sbu',\n",
       " 'semeion',\n",
       " 'stanford_cars',\n",
       " 'stl10',\n",
       " 'sun397',\n",
       " 'svhn',\n",
       " 'ucf101',\n",
       " 'usps',\n",
       " 'utils',\n",
       " 'video_utils',\n",
       " 'vision',\n",
       " 'voc',\n",
       " 'widerface']"
      ]
     },
     "execution_count": 2,
     "metadata": {},
     "output_type": "execute_result"
    }
   ],
   "source": [
    "from torchvision import datasets\n",
    "\n",
    "dir(datasets)"
   ]
  },
  {
   "cell_type": "code",
   "execution_count": 4,
   "id": "532b3ded-d2b8-4e9b-a376-c36c4b088ff9",
   "metadata": {},
   "outputs": [
    {
     "name": "stdout",
     "output_type": "stream",
     "text": [
      "Files already downloaded and verified\n",
      "Files already downloaded and verified\n"
     ]
    }
   ],
   "source": [
    "dataset_train = datasets.CIFAR10('.', train=True, download=True)\n",
    "dataset_val = datasets.CIFAR10('.', train=False, download=True)"
   ]
  },
  {
   "cell_type": "code",
   "execution_count": 6,
   "id": "cb5fdc31-d0fa-4e0e-9301-e6c1e45e0174",
   "metadata": {},
   "outputs": [
    {
     "data": {
      "text/plain": [
       "(50000, 10000)"
      ]
     },
     "execution_count": 6,
     "metadata": {},
     "output_type": "execute_result"
    }
   ],
   "source": [
    "len(dataset_train), len(dataset_val)"
   ]
  },
  {
   "cell_type": "code",
   "execution_count": 14,
   "id": "ed1f8521-585b-4eff-9929-92a86c13a0d1",
   "metadata": {},
   "outputs": [],
   "source": [
    "img, lbl = dataset_train[159]"
   ]
  },
  {
   "cell_type": "code",
   "execution_count": 15,
   "id": "bd07fc9d-054c-485e-9668-ed00a7884035",
   "metadata": {},
   "outputs": [
    {
     "data": {
      "text/plain": [
       "(<matplotlib.image.AxesImage at 0x117d66bb0>, 3)"
      ]
     },
     "execution_count": 15,
     "metadata": {},
     "output_type": "execute_result"
    },
    {
     "data": {
      "image/png": "[encoded data removed]",
      "text/plain": [
       "<Figure size 640x480 with 1 Axes>"
      ]
     },
     "metadata": {},
     "output_type": "display_data"
    }
   ],
   "source": [
    "from matplotlib import pyplot as plt\n",
    "\n",
    "plt.imshow(img), lbl"
   ]
  },
  {
   "cell_type": "code",
   "execution_count": 18,
   "id": "d69bd3bf-652e-461f-943a-3cd58d3499bf",
   "metadata": {},
   "outputs": [
    {
     "data": {
      "text/plain": [
       "torch.Size([3, 32, 32])"
      ]
     },
     "execution_count": 18,
     "metadata": {},
     "output_type": "execute_result"
    }
   ],
   "source": [
    "from torchvision import transforms\n",
    "\n",
    "dir(transforms)\n",
    "\n",
    "to_tensor = transforms.ToTensor()\n",
    "to_tensor(img).shape"
   ]
  },
  {
   "cell_type": "code",
   "execution_count": 20,
   "id": "838772b4-73a1-42cd-a5a6-d66b97560eb8",
   "metadata": {},
   "outputs": [
    {
     "name": "stdout",
     "output_type": "stream",
     "text": [
      "Files already downloaded and verified\n",
      "Files already downloaded and verified\n"
     ]
    }
   ],
   "source": [
    "dataset_train = datasets.CIFAR10('.', train=True, download=True, transform=transforms.ToTensor())\n",
    "dataset_val = datasets.CIFAR10('.', train=False, download=True, transform=transforms.ToTensor())"
   ]
  },
  {
   "cell_type": "code",
   "execution_count": 24,
   "id": "26199a77-3e6b-47e3-b4d9-07be17e5a8ac",
   "metadata": {},
   "outputs": [
    {
     "data": {
      "text/plain": [
       "torch.Size([3, 32, 32])"
      ]
     },
     "execution_count": 24,
     "metadata": {},
     "output_type": "execute_result"
    }
   ],
   "source": [
    "img_t, lbl = dataset_train[159]\n",
    "img_t.shape"
   ]
  },
  {
   "cell_type": "code",
   "execution_count": 29,
   "id": "1c4728bd-9239-4981-bd29-f6dc69887350",
   "metadata": {},
   "outputs": [
    {
     "data": {
      "text/plain": [
       "<matplotlib.image.AxesImage at 0x11b838b20>"
      ]
     },
     "execution_count": 29,
     "metadata": {},
     "output_type": "execute_result"
    },
    {
     "data": {
      "image/png": "[encoded data removed]",
      "text/plain": [
       "<Figure size 640x480 with 1 Axes>"
      ]
     },
     "metadata": {},
     "output_type": "display_data"
    }
   ],
   "source": [
    "plt.imshow(img_t.permute(1,2,0))"
   ]
  },
  {
   "cell_type": "code",
   "execution_count": 34,
   "id": "cd3f7295-8cd4-47ce-8af2-672e98c2ee24",
   "metadata": {},
   "outputs": [],
   "source": [
    "import torch\n",
    "\n",
    "\n",
    "imgs = torch.stack([img for (img, lbl) in dataset_train], dim = 3)"
   ]
  },
  {
   "cell_type": "code",
   "execution_count": 35,
   "id": "cfb62b68-e223-4039-9522-851bd811d263",
   "metadata": {},
   "outputs": [
    {
     "data": {
      "text/plain": [
       "torch.Size([3, 32, 32, 50000])"
      ]
     },
     "execution_count": 35,
     "metadata": {},
     "output_type": "execute_result"
    }
   ],
   "source": [
    "imgs.shape"
   ]
  },
  {
   "cell_type": "code",
   "execution_count": 39,
   "id": "54d63abd-ae76-45f9-9860-725714a4ba24",
   "metadata": {},
   "outputs": [
    {
     "data": {
      "text/plain": [
       "torch.Size([3, 51200000])"
      ]
     },
     "execution_count": 39,
     "metadata": {},
     "output_type": "execute_result"
    }
   ],
   "source": [
    "imgs.view(3,-1).shape"
   ]
  },
  {
   "cell_type": "code",
   "execution_count": 44,
   "id": "e755b789-6d41-4ebd-85de-a95f7ae79dee",
   "metadata": {},
   "outputs": [
    {
     "data": {
      "text/plain": [
       "(tensor([0.4914, 0.4822, 0.4465]), tensor([0.2470, 0.2435, 0.2616]))"
      ]
     },
     "execution_count": 44,
     "metadata": {},
     "output_type": "execute_result"
    }
   ],
   "source": [
    "means = imgs.view(3,-1).mean(dim=1)\n",
    "stds = imgs.view(3,-1).std(dim=1)\n",
    "means, stds"
   ]
  },
  {
   "cell_type": "code",
   "execution_count": 45,
   "id": "43bdb3a5-d952-437b-a201-d277ce609493",
   "metadata": {},
   "outputs": [
    {
     "data": {
      "text/plain": [
       "Normalize(mean=[0.49139965 0.48215845 0.44653094], std=[0.24703224 0.24348514 0.26158786])"
      ]
     },
     "execution_count": 45,
     "metadata": {},
     "output_type": "execute_result"
    }
   ],
   "source": [
    "transforms.Normalize(means.numpy(), stds.numpy())"
   ]
  },
  {
   "cell_type": "code",
   "execution_count": 46,
   "id": "b487000a-fcf1-47a9-97b0-b6a05b69dbe1",
   "metadata": {},
   "outputs": [
    {
     "name": "stdout",
     "output_type": "stream",
     "text": [
      "Files already downloaded and verified\n",
      "Files already downloaded and verified\n"
     ]
    }
   ],
   "source": [
    "dataset_train_trans = datasets.CIFAR10('.', train=True, download=True, transform=transforms.Compose([\n",
    "    transforms.ToTensor(),\n",
    "    transforms.Normalize(means.numpy(), stds.numpy())]))\n",
    "\n",
    "\n",
    "dataset_val_trans = datasets.CIFAR10('.', train=False, download=True, transform=transforms.Compose([\n",
    "    transforms.ToTensor(),\n",
    "    transforms.Normalize(means.numpy(), stds.numpy())]))"
   ]
  },
  {
   "cell_type": "code",
   "execution_count": 70,
   "id": "0a30c1cb-aa5c-4f6d-9cb4-a1d281d02d90",
   "metadata": {},
   "outputs": [
    {
     "name": "stderr",
     "output_type": "stream",
     "text": [
      "Clipping input data to the valid range for imshow with RGB data ([0..1] for floats or [0..255] for integers).\n"
     ]
    },
    {
     "data": {
      "text/plain": [
       "<matplotlib.image.AxesImage at 0x11bdd4fd0>"
      ]
     },
     "execution_count": 70,
     "metadata": {},
     "output_type": "execute_result"
    },
    {
     "data": {
      "image/png": "[encoded data removed]",
      "text/plain": [
       "<Figure size 640x480 with 1 Axes>"
      ]
     },
     "metadata": {},
     "output_type": "display_data"
    }
   ],
   "source": [
    "img, lbl = dataset_train_trans[159]\n",
    "plt.imshow(img.permute(1,2,0))"
   ]
  },
  {
   "cell_type": "code",
   "execution_count": 48,
   "id": "e67c41fc-43ff-479b-8d50-bbd2ec9311f5",
   "metadata": {},
   "outputs": [
    {
     "data": {
      "text/plain": [
       "torch.Size([3, 32, 32, 50000])"
      ]
     },
     "execution_count": 48,
     "metadata": {},
     "output_type": "execute_result"
    }
   ],
   "source": [
    "imgs = torch.stack([img for img, lbl in dataset_train_trans], dim=3)\n",
    "imgs.shape"
   ]
  },
  {
   "cell_type": "code",
   "execution_count": 50,
   "id": "d0a38c9e-2bd5-4b5f-98d7-49f82deca141",
   "metadata": {},
   "outputs": [
    {
     "data": {
      "text/plain": [
       "tensor([1.0000, 1.0000, 1.0000])"
      ]
     },
     "execution_count": 50,
     "metadata": {},
     "output_type": "execute_result"
    }
   ],
   "source": [
    "imgs.view(3, -1).mean(dim=1)\n",
    "imgs.view(3, -1).std(dim=1)"
   ]
  },
  {
   "cell_type": "code",
   "execution_count": 87,
   "id": "da90bc07-0d14-4d70-bd88-864bc3018dcc",
   "metadata": {},
   "outputs": [
    {
     "data": {
      "text/plain": [
       "(10000, 2000)"
      ]
     },
     "execution_count": 87,
     "metadata": {},
     "output_type": "execute_result"
    }
   ],
   "source": [
    "label_map = {0:0, 2:1}\n",
    "class_names = ['airplane', 'bird']\n",
    "\n",
    "dataset_train_2 = [(img, label_map[lbl]) for img, lbl in dataset_train_trans if lbl in [0,2]]\n",
    "dataset_val_2 = [(img, label_map[lbl]) for img, lbl in dataset_val_trans if lbl in [0,2]]\n",
    "\n",
    "len(dataset_train_2), len(dataset_val_2)"
   ]
  },
  {
   "cell_type": "code",
   "execution_count": 52,
   "id": "c955455b-697b-43fd-9868-b4322bc465d8",
   "metadata": {},
   "outputs": [],
   "source": [
    "import torch.nn as nn\n",
    "\n",
    "n_classes = 2\n",
    "model = nn.Sequential(\n",
    "    nn.Linear(3072,512), # 3072 in features, 512 out features, bias is on\n",
    "                         # 512 neurons, each neuron has 3072 weights, 1 bias\n",
    "    nn.Tanh(),\n",
    "    nn.Linear(512,n_classes)\n",
    ")"
   ]
  },
  {
   "cell_type": "code",
   "execution_count": 64,
   "id": "546e8b04-c93a-48c9-affe-f5c17e423b53",
   "metadata": {},
   "outputs": [
    {
     "data": {
      "text/plain": [
       "tensor([[0.0900, 0.2447, 0.6652],\n",
       "        [0.0900, 0.2447, 0.6652]], dtype=torch.float64)"
      ]
     },
     "execution_count": 64,
     "metadata": {},
     "output_type": "execute_result"
    }
   ],
   "source": [
    "x = torch.tensor([[1.,2.,3.], [1, 2., 3.]], dtype=float)\n",
    "torch.exp(x)\n",
    "\n",
    "def softmax(x):\n",
    "    return torch.exp(x) / torch.exp(x).sum()\n",
    "\n",
    "sftmx = nn.Softmax(dim = 1)\n",
    "sftmx(x)"
   ]
  },
  {
   "cell_type": "code",
   "execution_count": 79,
   "id": "f0f2a94d-5e70-4467-b363-68d8e2ad1b0b",
   "metadata": {},
   "outputs": [],
   "source": [
    "model = nn.Sequential(\n",
    "    nn.Linear(3072,512), # 3072 in features, 512 out features, bias is on\n",
    "                         # 512 neurons, each neuron has 3072 weights, 1 bias\n",
    "    nn.Tanh(),\n",
    "    nn.Linear(512,n_classes), #512 in features, n_classes out features, bias is on\n",
    "                              # n_classes neurons, each having 512 weights, 1 bias\n",
    "    nn.Softmax(dim = 1)\n",
    ")"
   ]
  },
  {
   "cell_type": "code",
   "execution_count": 90,
   "id": "e4d7d5b4-d5ea-443b-bbe2-6d1f6a78d055",
   "metadata": {},
   "outputs": [
    {
     "name": "stderr",
     "output_type": "stream",
     "text": [
      "Clipping input data to the valid range for imshow with RGB data ([0..1] for floats or [0..255] for integers).\n"
     ]
    },
    {
     "data": {
      "text/plain": [
       "(<matplotlib.image.AxesImage at 0x11d9af2e0>, 0)"
      ]
     },
     "execution_count": 90,
     "metadata": {},
     "output_type": "execute_result"
    },
    {
     "data": {
      "image/png": "[encoded data removed]",
      "text/plain": [
       "<Figure size 640x480 with 1 Axes>"
      ]
     },
     "metadata": {},
     "output_type": "display_data"
    }
   ],
   "source": [
    "img, lbl = dataset_train_2[99]\n",
    "plt.imshow(img.permute(1,2,0)), lbl"
   ]
  },
  {
   "cell_type": "code",
   "execution_count": 80,
   "id": "2d7c8974-4446-45d1-b1d9-8654299a9a03",
   "metadata": {},
   "outputs": [
    {
     "data": {
      "text/plain": [
       "tensor([[0.5188, 0.4812]], grad_fn=<SoftmaxBackward0>)"
      ]
     },
     "execution_count": 80,
     "metadata": {},
     "output_type": "execute_result"
    }
   ],
   "source": [
    "img = img.view(-1).unsqueeze(0)\n",
    "model(img)"
   ]
  },
  {
   "cell_type": "code",
   "execution_count": 81,
   "id": "b6b14756-0dcf-4678-bf21-3d1edd212420",
   "metadata": {},
   "outputs": [],
   "source": [
    "model = nn.Sequential(\n",
    "    nn.Linear(3072,512), # 3072 in features, 512 out features, bias is on\n",
    "                         # 512 neurons, each neuron has 3072 weights, 1 bias\n",
    "    nn.Tanh(),\n",
    "    nn.Linear(512,n_classes), #512 in features, n_classes out features, bias is on\n",
    "                              # n_classes neurons, each having 512 weights, 1 bias\n",
    "    nn.LogSoftmax(dim = 1)\n",
    ")"
   ]
  },
  {
   "cell_type": "code",
   "execution_count": 83,
   "id": "9e8fc4f8-673e-4cc1-9f5a-e2a9d3ce303b",
   "metadata": {},
   "outputs": [],
   "source": [
    "out = model(img)"
   ]
  },
  {
   "cell_type": "code",
   "execution_count": 91,
   "id": "254458c9-7472-42fc-87eb-c78d08771ae2",
   "metadata": {},
   "outputs": [
    {
     "data": {
      "text/plain": [
       "tensor(0.5749, grad_fn=<NllLossBackward0>)"
      ]
     },
     "execution_count": 91,
     "metadata": {},
     "output_type": "execute_result"
    }
   ],
   "source": [
    "loss_fn = nn.NLLLoss()\n",
    "loss_fn(out, torch.tensor([lbl]))"
   ]
  },
  {
   "cell_type": "code",
   "execution_count": null,
   "id": "b4b1cb18-9d57-4b91-aee0-0733a7337778",
   "metadata": {},
   "outputs": [],
   "source": []
  }
 ],
 "metadata": {
  "kernelspec": {
   "display_name": "Python 3 (ipykernel)",
   "language": "python",
   "name": "python3"
  },
  "language_info": {
   "codemirror_mode": {
    "name": "ipython",
    "version": 3
   },
   "file_extension": ".py",
   "mimetype": "text/x-python",
   "name": "python",
   "nbconvert_exporter": "python",
   "pygments_lexer": "ipython3",
   "version": "3.9.6"
  }
 },
 "nbformat": 4,
 "nbformat_minor": 5
}
