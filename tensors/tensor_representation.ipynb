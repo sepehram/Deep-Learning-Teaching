{
 "cells": [
  {
   "cell_type": "code",
   "execution_count": 5,
   "id": "18edd9fc-1e02-4280-98e1-c38acd2b86de",
   "metadata": {},
   "outputs": [
    {
     "data": {
      "text/plain": [
       "(725, 1086, 3)"
      ]
     },
     "execution_count": 5,
     "metadata": {},
     "output_type": "execute_result"
    }
   ],
   "source": [
    "import imageio\n",
    "img_arr = imageio.v2.imread('./candy2.jpeg')\n",
    "img_arr.shape"
   ]
  },
  {
   "cell_type": "code",
   "execution_count": 12,
   "id": "56ff457a-687a-42c3-b815-036c23c43064",
   "metadata": {},
   "outputs": [
    {
     "data": {
      "text/plain": [
       "torch.Size([3, 725, 1086])"
      ]
     },
     "execution_count": 12,
     "metadata": {},
     "output_type": "execute_result"
    }
   ],
   "source": [
    "import torch\n",
    "img_t = torch.from_numpy(img_arr)\n",
    "img_t = img_t.permute(2,0,1)\n",
    "img_t.shape"
   ]
  },
  {
   "cell_type": "code",
   "execution_count": 59,
   "id": "f09908da-8e4e-45d5-8d0e-899a21dcb629",
   "metadata": {},
   "outputs": [
    {
     "name": "stdout",
     "output_type": "stream",
     "text": [
      "tensor(1.)\n",
      "tensor(1.)\n",
      "tensor(1.)\n"
     ]
    }
   ],
   "source": [
    "import os\n",
    "\n",
    "data_dir = './image-cats/'\n",
    "filenames = [name for name in os.listdir(data_dir) if os.path.splitext(name)[-1] == '.png']\n",
    "\n",
    "batch_size = 3\n",
    "n_channels = 3\n",
    "batch = torch.zeros(batch_size, n_channels, 256, 256, dtype = torch.uint8)\n",
    "\n",
    "for i, name in enumerate(filenames):\n",
    "    img_arr = imageio.v2.imread(os.path.join(data_dir, name))\n",
    "    img_t = torch.from_numpy(img_arr)\n",
    "    img_t = img_t.permute(2,0,1)\n",
    "    batch[i] = img_t\n",
    "\n",
    "batch = batch.float()\n",
    "batch /= 255\n",
    "batch\n",
    "\n",
    "\n",
    "for c in range(n_channels):\n",
    "    mean = torch.mean(batch[:, c])\n",
    "    std = torch.std(batch[:, c])\n",
    "    batch[:,c] = (batch[:,c] - mean) / std\n"
   ]
  },
  {
   "cell_type": "code",
   "execution_count": 69,
   "id": "9026c59c-31ab-4aee-9165-6284d0358128",
   "metadata": {},
   "outputs": [
    {
     "name": "stdout",
     "output_type": "stream",
     "text": [
      "Reading DICOM (examining files): 1/99 files (1.0%72/99 files (72.7%99/99 files (100.0%)\n",
      "  Found 1 correct series.\n",
      "Reading DICOM (loading data): 31/99  (31.378/99  (78.899/99  (100.0%)\n"
     ]
    }
   ],
   "source": [
    "data_dir = './volumetric-dicom/2-LUNG 3.0  B70f-04083/'\n",
    "vol_arr = imageio.volread(data_dir, 'DICOM')\n",
    "vol_arr.shape\n",
    "vol_t = torch.from_numpy(vol_arr)\n",
    "batch = vol_t.unsqueeze(0).unsqueeze(0)"
   ]
  },
  {
   "cell_type": "code",
   "execution_count": 117,
   "id": "7be74fe1-bd94-4d46-ae57-4f5d5d653654",
   "metadata": {},
   "outputs": [
    {
     "data": {
      "text/plain": [
       "torch.Size([1060, 11])"
      ]
     },
     "execution_count": 117,
     "metadata": {},
     "output_type": "execute_result"
    }
   ],
   "source": [
    "import numpy as np\n",
    "\n",
    "data_path = './tabular-wine/winequality-white.csv'\n",
    "table_arr = np.loadtxt(data_path, dtype=np.float32, delimiter=';', skiprows=1)\n",
    "table_t = torch.from_numpy(table_arr)\n",
    "\n",
    "data_t = table_t[:,:-1]\n",
    "target_t = table_t[:,-1]\n",
    "target_t.shape[0]\n",
    "\n",
    "#1 : (1,0,0,0,0,0,0,0,0,0)\n",
    "#2 : (0,1,0,0,0,0,0,0,0,0) ...\n",
    "\n",
    "one_hot_target_t = torch.zeros(target_t.shape[0], 10).long()\n",
    "one_hot_target_t.scatter_(1, target_t.unsqueeze(1).long(), 1.0)\n",
    "\n",
    "data_mean = torch.mean(data_t, dim=0)\n",
    "data_std = torch.std(data_t, dim = 0)\n",
    "data_norm = (data_t - data_mean) / data_std\n",
    "data_norm.shape\n",
    "\n",
    "bad_data = data_t[(target_t <= 3)]\n",
    "medium_data = data_t[(target_t > 3) & (target_t < 7)]\n",
    "good_data = data_t[target_t >= 7]\n",
    "good_data.shape"
   ]
  },
  {
   "cell_type": "code",
   "execution_count": null,
   "id": "e861a7cd-e794-4c3d-b699-25dffbc2df94",
   "metadata": {},
   "outputs": [],
   "source": []
  }
 ],
 "metadata": {
  "kernelspec": {
   "display_name": "Python 3 (ipykernel)",
   "language": "python",
   "name": "python3"
  },
  "language_info": {
   "codemirror_mode": {
    "name": "ipython",
    "version": 3
   },
   "file_extension": ".py",
   "mimetype": "text/x-python",
   "name": "python",
   "nbconvert_exporter": "python",
   "pygments_lexer": "ipython3",
   "version": "3.9.6"
  }
 },
 "nbformat": 4,
 "nbformat_minor": 5
}
