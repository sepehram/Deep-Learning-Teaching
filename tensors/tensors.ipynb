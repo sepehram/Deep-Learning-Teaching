{
 "cells": [
  {
   "cell_type": "code",
   "execution_count": 14,
   "id": "bcc0a499-8f8c-4968-a972-18634cfa651b",
   "metadata": {},
   "outputs": [
    {
     "data": {
      "text/plain": [
       "tensor([[0., 0., 7.],\n",
       "        [0., 0., 0.]])"
      ]
     },
     "execution_count": 14,
     "metadata": {},
     "output_type": "execute_result"
    }
   ],
   "source": [
    "import torch\n",
    "t1 = torch.zeros(2,3)\n",
    "t1.shape\n",
    "t2 = torch.ones(3,4,5)\n",
    "t1[0,2] = 7\n",
    "t1"
   ]
  },
  {
   "cell_type": "code",
   "execution_count": 40,
   "id": "0e7e5a78-e2ca-47cc-8119-1f912350735b",
   "metadata": {},
   "outputs": [
    {
     "data": {
      "text/plain": [
       "3"
      ]
     },
     "execution_count": 40,
     "metadata": {},
     "output_type": "execute_result"
    }
   ],
   "source": [
    "t3 = torch.tensor([[1.5,2.4], [3.1,4], [5.6,6.9]])\n",
    "int(t3[1,0])"
   ]
  },
  {
   "cell_type": "code",
   "execution_count": 49,
   "id": "8cd901aa-f9f0-4c0b-a9d5-b42798241e16",
   "metadata": {},
   "outputs": [
    {
     "data": {
      "text/plain": [
       "tensor([2, 5])"
      ]
     },
     "execution_count": 49,
     "metadata": {},
     "output_type": "execute_result"
    }
   ],
   "source": [
    "t4 = torch.tensor([1,2,3,4,5,6,7])\n",
    "t4[1:-1:3]"
   ]
  },
  {
   "cell_type": "code",
   "execution_count": 51,
   "id": "36fc5172-a028-4f1a-86a6-873ff11480c0",
   "metadata": {},
   "outputs": [
    {
     "data": {
      "text/plain": [
       "tensor([1.5000])"
      ]
     },
     "execution_count": 51,
     "metadata": {},
     "output_type": "execute_result"
    }
   ],
   "source": [
    "t3[0:-1:2,0]"
   ]
  },
  {
   "cell_type": "code",
   "execution_count": 64,
   "id": "d7404c3e-ae7a-4833-a1a6-387ff0815853",
   "metadata": {},
   "outputs": [
    {
     "data": {
      "text/plain": [
       "torch.Size([1, 1, 3, 2])"
      ]
     },
     "execution_count": 64,
     "metadata": {},
     "output_type": "execute_result"
    }
   ],
   "source": [
    "t3[None][None].shape"
   ]
  },
  {
   "cell_type": "code",
   "execution_count": 77,
   "id": "0ab64a3c-1007-4510-8128-cd9fe4a5188f",
   "metadata": {},
   "outputs": [
    {
     "data": {
      "text/plain": [
       "torch.Size([4, 4])"
      ]
     },
     "execution_count": 77,
     "metadata": {},
     "output_type": "execute_result"
    }
   ],
   "source": [
    "img = torch.randn(3,4,4)\n",
    "gray_scale_img = img.mean(-3)\n",
    "gray_scale_img.shape"
   ]
  },
  {
   "cell_type": "code",
   "execution_count": 80,
   "id": "7d6996fa-46dd-47ef-b7f2-81ce608d1e99",
   "metadata": {},
   "outputs": [
    {
     "data": {
      "text/plain": [
       "torch.Size([5, 4, 4])"
      ]
     },
     "execution_count": 80,
     "metadata": {},
     "output_type": "execute_result"
    }
   ],
   "source": [
    "batch = torch.randn(5,3,4,4)\n",
    "gray_scale_batch = batch.mean(-3)\n",
    "gray_scale_batch.shape"
   ]
  },
  {
   "cell_type": "code",
   "execution_count": 81,
   "id": "ea35c4ef-48e5-4be2-95cc-8c71d593c039",
   "metadata": {},
   "outputs": [],
   "source": [
    "weights = torch.tensor([.21, .71, .08])"
   ]
  },
  {
   "cell_type": "code",
   "execution_count": 83,
   "id": "857089fc-acc9-4ced-a126-58ff068b11f4",
   "metadata": {},
   "outputs": [
    {
     "data": {
      "text/plain": [
       "tensor([ 8, 16, 24, 32, 40, 48, 56])"
      ]
     },
     "execution_count": 83,
     "metadata": {},
     "output_type": "execute_result"
    }
   ],
   "source": [
    "t4 * 8"
   ]
  },
  {
   "cell_type": "code",
   "execution_count": 85,
   "id": "f0d610e0-ffa2-48d1-b23d-726f520ed345",
   "metadata": {},
   "outputs": [
    {
     "data": {
      "text/plain": [
       "(tensor([[0.4409, 0.6255, 0.4340],\n",
       "         [0.3587, 0.7110, 0.9393]]),\n",
       " tensor([[0.8516, 0.2211, 0.7540],\n",
       "         [0.2952, 0.9016, 0.0515]]),\n",
       " tensor([[0.3755, 0.1383, 0.3273],\n",
       "         [0.1059, 0.6410, 0.0483]]))"
      ]
     },
     "execution_count": 85,
     "metadata": {},
     "output_type": "execute_result"
    }
   ],
   "source": [
    "t5 = torch.rand(2,3)\n",
    "t6 = torch.rand(2,3)\n",
    "t5, t6, t5 * t6"
   ]
  },
  {
   "cell_type": "code",
   "execution_count": 102,
   "id": "1fabe44d-076d-43d5-85ba-c7cc98a4b164",
   "metadata": {},
   "outputs": [
    {
     "data": {
      "text/plain": [
       "torch.Size([5, 4, 4])"
      ]
     },
     "execution_count": 102,
     "metadata": {},
     "output_type": "execute_result"
    }
   ],
   "source": [
    "#torch.unsqueeze(weights, -1)\n",
    "weights_unsq = weights.unsqueeze(-1).unsqueeze(-1)\n",
    "\n",
    "gray_scale_img_weighted = (img * weights_unsq).sum(-3)\n",
    "gray_scale_batch_weighted = (batch * weights_unsq).sum(-3)"
   ]
  },
  {
   "cell_type": "code",
   "execution_count": 124,
   "id": "cc8f9b6a-d6d0-4da5-ba4d-a3bb2a9e9389",
   "metadata": {},
   "outputs": [
    {
     "data": {
      "text/plain": [
       "tensor([[ 0.3503,  0.3136, -0.3230,  0.2390],\n",
       "        [-0.4159, -0.6395,  0.0583, -1.1497],\n",
       "        [ 0.7602,  1.0278, -0.7294,  0.4760],\n",
       "        [ 0.8397,  0.0578,  0.6677,  0.3167]])"
      ]
     },
     "execution_count": 124,
     "metadata": {},
     "output_type": "execute_result"
    }
   ],
   "source": [
    "weights_named = torch.tensor([.21, .71, .08], names=['channels'])\n",
    "img_named = img.refine_names(..., 'channels', 'height', 'width')\n",
    "img_named.names\n",
    "\n",
    "weights_aligned = weights_named.align_as(img_named)\n",
    "weights_aligned.names\n",
    "\n",
    "gray_scale_img_named = (img_named * weights_aligned).sum('channels')\n",
    "gray_scale_img_named.rename(None)"
   ]
  },
  {
   "cell_type": "code",
   "execution_count": 156,
   "id": "85f8465d-cee3-47ed-bfbf-6ad7e264d529",
   "metadata": {},
   "outputs": [
    {
     "data": {
      "text/plain": [
       "torch.bool"
      ]
     },
     "execution_count": 156,
     "metadata": {},
     "output_type": "execute_result"
    }
   ],
   "source": [
    "t4 = torch.tensor([1,2,3,4,5,6,7], dtype=torch.int32)\n",
    "t5 = t4.to(torch.int16)\n",
    "((t5 * t4) > 6).dtype"
   ]
  },
  {
   "cell_type": "code",
   "execution_count": 167,
   "id": "c36392f7-9d6b-4510-aa55-729428afa0f0",
   "metadata": {},
   "outputs": [
    {
     "data": {
      "text/plain": [
       "tensor([[1, 2],\n",
       "        [3, 4],\n",
       "        [7, 6]])"
      ]
     },
     "execution_count": 167,
     "metadata": {},
     "output_type": "execute_result"
    }
   ],
   "source": [
    "pts = torch.tensor([[1,2],[3,4],[5,6]])\n",
    "pts.shape\n",
    "pts_storage = pts.storage()\n",
    "pts_storage[4] = 7\n",
    "pts #updated!\n"
   ]
  },
  {
   "cell_type": "code",
   "execution_count": 174,
   "id": "32ef5c93-a679-456b-a545-80923b9f1656",
   "metadata": {},
   "outputs": [
    {
     "data": {
      "text/plain": [
       "4"
      ]
     },
     "execution_count": 174,
     "metadata": {},
     "output_type": "execute_result"
    }
   ],
   "source": [
    "pts[2].storage_offset()"
   ]
  },
  {
   "cell_type": "markdown",
   "id": "f88371f2-3cc7-42cd-9148-62fa938f15d6",
   "metadata": {},
   "source": [
    "pts.stride() # in order to access element at index [i,j] within pts, offset = 2 * i + 1 * j"
   ]
  },
  {
   "cell_type": "code",
   "execution_count": 177,
   "id": "a336fa63-ccee-448c-ba4d-7c49e57fd33c",
   "metadata": {},
   "outputs": [
    {
     "data": {
      "text/plain": [
       "(2, 1)"
      ]
     },
     "execution_count": 177,
     "metadata": {},
     "output_type": "execute_result"
    }
   ],
   "source": [
    "pts.stride()"
   ]
  },
  {
   "cell_type": "code",
   "execution_count": 188,
   "id": "3de2a7da-7406-453a-bd42-ee9979bd088b",
   "metadata": {},
   "outputs": [
    {
     "data": {
      "text/plain": [
       "(tensor([[[-1.0134,  0.0480, -0.1056, -0.9801],\n",
       "          [ 0.5300,  1.1202, -0.3877, -0.2299],\n",
       "          [ 0.1239,  0.8531, -0.4578, -0.4898]],\n",
       " \n",
       "         [[ 0.7530, -1.9590, -0.7500,  0.1455],\n",
       "          [-0.9091, -0.0852,  1.7728, -0.3216],\n",
       "          [-2.4149, -0.2259, -0.3639,  2.0277]]]),\n",
       "  -1.0133577585220337\n",
       "  0.047989506274461746\n",
       "  -0.10557320713996887\n",
       "  -0.9800690412521362\n",
       "  0.5300299525260925\n",
       "  1.1201993227005005\n",
       "  -0.38772791624069214\n",
       "  -0.22993898391723633\n",
       "  0.12391053885221481\n",
       "  0.8530968427658081\n",
       "  -0.4577876329421997\n",
       "  -0.48982948064804077\n",
       "  0.7529871463775635\n",
       "  -1.9589706659317017\n",
       "  -0.7499852180480957\n",
       "  0.14550261199474335\n",
       "  -0.9090502262115479\n",
       "  -0.08520094305276871\n",
       "  1.7728304862976074\n",
       "  -0.32162848114967346\n",
       "  -2.4149115085601807\n",
       "  -0.22588740289211273\n",
       "  -0.36390283703804016\n",
       "  2.0276613235473633\n",
       " [torch.storage._TypedStorage(dtype=torch.float32, device=cpu) of size 24],\n",
       " (12, 4, 1))"
      ]
     },
     "execution_count": 188,
     "metadata": {},
     "output_type": "execute_result"
    }
   ],
   "source": [
    "t6 = torch.tensor([[1,2,3,4],[5,6,7,8]])\n",
    "t6, t6.stride(), t6[1][2], t6.storage()\n",
    "t7 = torch.randn(2,3,4)\n",
    "t7, t7.storage(), t7.stride(), \n",
    "# [i,j,k]: offset = 12 * i + 4 * j + 1 * k"
   ]
  },
  {
   "cell_type": "code",
   "execution_count": 191,
   "id": "e4b0074c-6327-45d4-b003-beebc73f250e",
   "metadata": {},
   "outputs": [
    {
     "data": {
      "text/plain": [
       "tensor(1.7728)"
      ]
     },
     "execution_count": 191,
     "metadata": {},
     "output_type": "execute_result"
    }
   ],
   "source": [
    "t7[1,1,2] # offset = 12 * 1 + 4 * 1 + 1 * 2 = 18"
   ]
  },
  {
   "cell_type": "code",
   "execution_count": 197,
   "id": "d266e4b4-9f61-4a58-a79d-fd1c06b72e12",
   "metadata": {},
   "outputs": [
    {
     "data": {
      "text/plain": [
       "tensor([0, 0, 0, 0, 0, 0, 0], dtype=torch.int16)"
      ]
     },
     "execution_count": 197,
     "metadata": {},
     "output_type": "execute_result"
    }
   ],
   "source": [
    "t5.zero_()\n",
    "t5"
   ]
  },
  {
   "cell_type": "code",
   "execution_count": 213,
   "id": "256a0ea2-4579-4aaa-9022-199f95179167",
   "metadata": {},
   "outputs": [
    {
     "data": {
      "text/plain": [
       "0"
      ]
     },
     "execution_count": 213,
     "metadata": {},
     "output_type": "execute_result"
    }
   ],
   "source": [
    "t8 = t6[1].clone()\n",
    "t8[1] = 10\n",
    "t6.storage_offset()"
   ]
  },
  {
   "cell_type": "code",
   "execution_count": 232,
   "id": "88f27a67-a0f9-4bb7-a658-c2c4ca6f24c2",
   "metadata": {},
   "outputs": [
    {
     "data": {
      "text/plain": [
       "(torch.Size([2, 4]), torch.Size([4, 2]), (4, 1), (1, 4))"
      ]
     },
     "execution_count": 232,
     "metadata": {},
     "output_type": "execute_result"
    }
   ],
   "source": [
    "t9 = t6.t()\n",
    "t6.shape, t9.shape, t6.stride(), t9.stride()"
   ]
  },
  {
   "cell_type": "code",
   "execution_count": 240,
   "id": "cfed6d79-5dd0-48f8-9961-15578f3972ad",
   "metadata": {},
   "outputs": [
    {
     "data": {
      "text/plain": [
       "(torch.Size([2, 3, 4]),\n",
       " (12, 4, 1),\n",
       " torch.Size([4, 3, 2]),\n",
       " (1, 4, 12),\n",
       " 4690309024,\n",
       " 4690309024)"
      ]
     },
     "execution_count": 240,
     "metadata": {},
     "output_type": "execute_result"
    }
   ],
   "source": [
    "t10 = torch.randn(2,3,4)\n",
    "t11 = t10.transpose(0,2)\n",
    "t10.shape, t10.stride(), t11.shape, t11.stride(), id(t11.storage()), id(t10.storage())"
   ]
  },
  {
   "cell_type": "code",
   "execution_count": 248,
   "id": "c5be6405-2628-4446-938c-517d11cec72e",
   "metadata": {},
   "outputs": [],
   "source": [
    "#t12 = torch.tensor([1,2], device='cuda')\n",
    "t12 = torch.tensor([1,2])\n",
    "#t12.to(device='cuda')"
   ]
  },
  {
   "cell_type": "code",
   "execution_count": 255,
   "id": "641c9211-60d2-4158-9fa0-42d977bf6923",
   "metadata": {},
   "outputs": [],
   "source": [
    "arr = t6.numpy()\n"
   ]
  },
  {
   "cell_type": "code",
   "execution_count": 258,
   "id": "4088b013-5e7b-4c83-8faf-f09c689ceb02",
   "metadata": {},
   "outputs": [
    {
     "data": {
      "text/plain": [
       "torch.Size([3])"
      ]
     },
     "execution_count": 258,
     "metadata": {},
     "output_type": "execute_result"
    }
   ],
   "source": [
    "import numpy as np\n",
    "arr = np.array([1,2,3])\n",
    "t13 = torch.from_numpy(arr)\n",
    "t13.shape"
   ]
  },
  {
   "cell_type": "code",
   "execution_count": 260,
   "id": "c94e5cbf-fc4f-4be1-b42f-e71d68d486ad",
   "metadata": {},
   "outputs": [],
   "source": [
    "torch.save(t13, './t13.t')"
   ]
  },
  {
   "cell_type": "code",
   "execution_count": 262,
   "id": "b0a9db97-3a4c-4955-a68d-7907c9687695",
   "metadata": {},
   "outputs": [
    {
     "data": {
      "text/plain": [
       "tensor([1, 2, 3])"
      ]
     },
     "execution_count": 262,
     "metadata": {},
     "output_type": "execute_result"
    }
   ],
   "source": [
    "t14 = torch.load('./t13.t')\n",
    "t14"
   ]
  }
 ],
 "metadata": {
  "kernelspec": {
   "display_name": "Python 3 (ipykernel)",
   "language": "python",
   "name": "python3"
  },
  "language_info": {
   "codemirror_mode": {
    "name": "ipython",
    "version": 3
   },
   "file_extension": ".py",
   "mimetype": "text/x-python",
   "name": "python",
   "nbconvert_exporter": "python",
   "pygments_lexer": "ipython3",
   "version": "3.9.6"
  }
 },
 "nbformat": 4,
 "nbformat_minor": 5
}
