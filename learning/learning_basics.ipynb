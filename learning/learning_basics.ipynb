{
 "cells": [
  {
   "cell_type": "code",
   "execution_count": 13,
   "id": "69b0d305-74d0-40ff-9175-8261d0400e43",
   "metadata": {},
   "outputs": [
    {
     "data": {
      "text/plain": [
       "(tensor(0.5483), tensor(-0.0083))"
      ]
     },
     "execution_count": 13,
     "metadata": {},
     "output_type": "execute_result"
    }
   ],
   "source": [
    "import torch\n",
    "\n",
    "t_u = [35.7, 55.9, 58.2, 81.9, 56.3, 48.9, 33.9, 21.8, 48.4, 60.4, 68.4]\n",
    "t_c = [0.5,  14.0, 15.0, 28.0, 11.0,  8.0,  3.0, -4.0,  6.0, 13.0, 21.0]\n",
    "\n",
    "t_u = torch.tensor(t_u) #input\n",
    "t_c = torch.tensor(t_c) #ground truth\n",
    "\n",
    "def model(t_u, w, b):\n",
    "    return w * t_u + b\n",
    "\n",
    "t_p = model(t_u, 1.0, 0.0)\n",
    "\n",
    "#mean square loss\n",
    "def loss_fn(t_p, t_c):\n",
    "    return ((t_p - t_c)**2).mean()\n",
    "\n",
    "delta = 0.1\n",
    "learning_rate = 0.01\n",
    "w = 1.0\n",
    "b = 0.0\n",
    "\n",
    "# delta L / delta w\n",
    "loss_rate_change_wrt_w = (loss_fn(model(t_u, w+delta, b), t_c) -loss_fn(model(t_u, w-delta, b), t_c)) / 2.0 * delta\n",
    "# delta L / delta b\n",
    "loss_rate_change_wrt_b = (loss_fn(model(t_u, w, b + delta), t_c) - loss_fn(model(t_u, w, b-delta), t_c)) / 2.0 * delta\n",
    "\n",
    "w = w - learning_rate * loss_rate_change_wrt_w\n",
    "b = b - learning_rate * loss_rate_change_wrt_b\n",
    "\n",
    "w,b"
   ]
  },
  {
   "cell_type": "code",
   "execution_count": 18,
   "id": "b58ce9e5-a2ca-4b55-bc21-ea6d9a783965",
   "metadata": {},
   "outputs": [
    {
     "data": {
      "text/plain": [
       "tensor([4517.2964,   82.6000])"
      ]
     },
     "execution_count": 18,
     "metadata": {},
     "output_type": "execute_result"
    }
   ],
   "source": [
    "# d_l/d_m\n",
    "def d_loss_wrt_model(t_p, t_c):\n",
    "    return 2.0 * (t_p - t_c) / t_p.size(0)\n",
    "\n",
    "# d_m/d_w\n",
    "def d_model_wrt_w(t_u, w, b):\n",
    "    return t_u\n",
    "\n",
    "# d_m/ d_b\n",
    "def d_model_wrt_b(t_u, w, b):\n",
    "    return 1.0\n",
    "\n",
    "# gradient of loss wrt params\n",
    "def gradient_fn(t_u, t_c, t_p, w, b):\n",
    "    d_loss_wrt_w = d_loss_wrt_model(t_p, t_c) * d_model_wrt_w(t_u, w, b)\n",
    "    d_loss_wrt_b = d_loss_wrt_model(t_p, t_c) * d_model_wrt_b(t_u, w, b)\n",
    "    return torch.stack([d_loss_wrt_w.sum(), d_loss_wrt_b.sum()])\n",
    "\n",
    "gradient_fn(t_u, t_c, t_p, w, b)"
   ]
  },
  {
   "cell_type": "code",
   "execution_count": 33,
   "id": "bb288d23-9733-4605-aaa5-a693ad890c13",
   "metadata": {},
   "outputs": [],
   "source": [
    "def training_loop(n_epochs,learning_rate, params, t_c, t_u):\n",
    "    for epoch in range(1, n_epochs + 1):\n",
    "        w,b = params\n",
    "        t_p = model(t_u, w, b)\n",
    "        grad = gradient_fn(t_u, t_c, t_p, w, b)\n",
    "        params = params - learning_rate * grad #gradient descent\n",
    "        if epoch % 1000 == 0:\n",
    "            print('epoch %d, loss %f' %(epoch, loss_fn(t_p, t_c)))\n",
    "    return params"
   ]
  },
  {
   "cell_type": "code",
   "execution_count": 28,
   "id": "2912c2bf-f7cd-42f5-8294-bfbea7c2c8a5",
   "metadata": {},
   "outputs": [
    {
     "name": "stdout",
     "output_type": "stream",
     "text": [
      "epoch 1, loss 1763.884766, gradient 4517.296387 82.599998\n",
      "epoch 2, loss 323.090515, gradient 1859.549316 35.784290\n",
      "epoch 3, loss 78.929634, gradient 765.466553 16.512201\n",
      "epoch 4, loss 37.552845, gradient 315.078979 8.578665\n",
      "epoch 5, loss 30.540283, gradient 129.673279 5.312729\n",
      "epoch 6, loss 29.351154, gradient 53.349541 3.968249\n",
      "epoch 7, loss 29.148884, gradient 21.930353 3.414754\n",
      "epoch 8, loss 29.113848, gradient 8.996441 3.186873\n",
      "epoch 9, loss 29.107145, gradient 3.672112 3.093032\n",
      "epoch 10, loss 29.105247, gradient 1.480309 3.054372\n",
      "epoch 11, loss 29.104168, gradient 0.578056 3.038425\n",
      "epoch 12, loss 29.103222, gradient 0.206573 3.031829\n",
      "epoch 13, loss 29.102295, gradient 0.053730 3.029083\n",
      "epoch 14, loss 29.101379, gradient -0.009312 3.027920\n",
      "epoch 15, loss 29.100466, gradient -0.035259 3.027410\n",
      "epoch 16, loss 29.099548, gradient -0.045883 3.027170\n",
      "epoch 17, loss 29.098631, gradient -0.050220 3.027040\n",
      "epoch 18, loss 29.097717, gradient -0.051991 3.026956\n",
      "epoch 19, loss 29.096796, gradient -0.052818 3.026888\n",
      "epoch 20, loss 29.095881, gradient -0.053146 3.026830\n",
      "epoch 21, loss 29.094959, gradient -0.053261 3.026775\n",
      "epoch 22, loss 29.094049, gradient -0.053310 3.026721\n",
      "epoch 23, loss 29.093134, gradient -0.053268 3.026669\n",
      "epoch 24, loss 29.092216, gradient -0.053337 3.026614\n",
      "epoch 25, loss 29.091301, gradient -0.053314 3.026562\n",
      "epoch 26, loss 29.090385, gradient -0.053276 3.026509\n",
      "epoch 27, loss 29.089464, gradient -0.053288 3.026456\n",
      "epoch 28, loss 29.088551, gradient -0.053230 3.026404\n",
      "epoch 29, loss 29.087635, gradient -0.053288 3.026350\n",
      "epoch 30, loss 29.086714, gradient -0.053307 3.026297\n",
      "epoch 31, loss 29.085804, gradient -0.053242 3.026245\n",
      "epoch 32, loss 29.084888, gradient -0.053295 3.026191\n",
      "epoch 33, loss 29.083967, gradient -0.053337 3.026137\n",
      "epoch 34, loss 29.083057, gradient -0.053272 3.026085\n",
      "epoch 35, loss 29.082142, gradient -0.053246 3.026033\n",
      "epoch 36, loss 29.081221, gradient -0.053322 3.025979\n",
      "epoch 37, loss 29.080309, gradient -0.053299 3.025926\n",
      "epoch 38, loss 29.079390, gradient -0.053249 3.025873\n",
      "epoch 39, loss 29.078474, gradient -0.053349 3.025819\n",
      "epoch 40, loss 29.077562, gradient -0.053295 3.025767\n",
      "epoch 41, loss 29.076649, gradient -0.053280 3.025714\n",
      "epoch 42, loss 29.075731, gradient -0.053215 3.025662\n",
      "epoch 43, loss 29.074812, gradient -0.053310 3.025608\n",
      "epoch 44, loss 29.073895, gradient -0.053261 3.025555\n",
      "epoch 45, loss 29.072981, gradient -0.053307 3.025502\n",
      "epoch 46, loss 29.072069, gradient -0.053268 3.025450\n",
      "epoch 47, loss 29.071148, gradient -0.053345 3.025395\n",
      "epoch 48, loss 29.070234, gradient -0.053318 3.025343\n",
      "epoch 49, loss 29.069323, gradient -0.053291 3.025290\n",
      "epoch 50, loss 29.068401, gradient -0.053215 3.025238\n",
      "epoch 51, loss 29.067486, gradient -0.053314 3.025183\n",
      "epoch 52, loss 29.066566, gradient -0.053265 3.025132\n",
      "epoch 53, loss 29.065657, gradient -0.053322 3.025078\n",
      "epoch 54, loss 29.064741, gradient -0.053288 3.025025\n",
      "epoch 55, loss 29.063826, gradient -0.053204 3.024974\n",
      "epoch 56, loss 29.062910, gradient -0.053310 3.024919\n",
      "epoch 57, loss 29.061995, gradient -0.053234 3.024867\n",
      "epoch 58, loss 29.061079, gradient -0.053314 3.024813\n",
      "epoch 59, loss 29.060169, gradient -0.053268 3.024761\n",
      "epoch 60, loss 29.059248, gradient -0.053268 3.024707\n",
      "epoch 61, loss 29.058336, gradient -0.053329 3.024654\n",
      "epoch 62, loss 29.057415, gradient -0.053352 3.024600\n",
      "epoch 63, loss 29.056507, gradient -0.053284 3.024548\n",
      "epoch 64, loss 29.055586, gradient -0.053238 3.024496\n",
      "epoch 65, loss 29.054674, gradient -0.053257 3.024443\n",
      "epoch 66, loss 29.053761, gradient -0.053295 3.024389\n",
      "epoch 67, loss 29.052843, gradient -0.053276 3.024337\n",
      "epoch 68, loss 29.051929, gradient -0.053207 3.024285\n",
      "epoch 69, loss 29.051012, gradient -0.053284 3.024230\n",
      "epoch 70, loss 29.050098, gradient -0.053249 3.024178\n",
      "epoch 71, loss 29.049183, gradient -0.053261 3.024125\n",
      "epoch 72, loss 29.048273, gradient -0.053345 3.024071\n",
      "epoch 73, loss 29.047350, gradient -0.053246 3.024019\n",
      "epoch 74, loss 29.046442, gradient -0.053295 3.023965\n",
      "epoch 75, loss 29.045530, gradient -0.053249 3.023913\n",
      "epoch 76, loss 29.044611, gradient -0.053299 3.023860\n",
      "epoch 77, loss 29.043699, gradient -0.053253 3.023807\n",
      "epoch 78, loss 29.042784, gradient -0.053253 3.023754\n",
      "epoch 79, loss 29.041870, gradient -0.053314 3.023700\n",
      "epoch 80, loss 29.040955, gradient -0.053242 3.023649\n",
      "epoch 81, loss 29.040039, gradient -0.053360 3.023594\n",
      "epoch 82, loss 29.039122, gradient -0.053280 3.023542\n",
      "epoch 83, loss 29.038210, gradient -0.053211 3.023490\n",
      "epoch 84, loss 29.037294, gradient -0.053265 3.023436\n",
      "epoch 85, loss 29.036379, gradient -0.053291 3.023383\n",
      "epoch 86, loss 29.035463, gradient -0.053242 3.023331\n",
      "epoch 87, loss 29.034554, gradient -0.053299 3.023277\n",
      "epoch 88, loss 29.033636, gradient -0.053219 3.023225\n",
      "epoch 89, loss 29.032722, gradient -0.053253 3.023172\n",
      "epoch 90, loss 29.031811, gradient -0.053272 3.023118\n",
      "epoch 91, loss 29.030895, gradient -0.053246 3.023066\n",
      "epoch 92, loss 29.029976, gradient -0.053242 3.023013\n",
      "epoch 93, loss 29.029066, gradient -0.053288 3.022959\n",
      "epoch 94, loss 29.028151, gradient -0.053226 3.022907\n",
      "epoch 95, loss 29.027235, gradient -0.053257 3.022854\n",
      "epoch 96, loss 29.026323, gradient -0.053295 3.022800\n",
      "epoch 97, loss 29.025410, gradient -0.053238 3.022748\n",
      "epoch 98, loss 29.024492, gradient -0.053246 3.022695\n",
      "epoch 99, loss 29.023582, gradient -0.053291 3.022642\n",
      "epoch 100, loss 29.022667, gradient -0.053169 3.022591\n"
     ]
    },
    {
     "data": {
      "text/plain": [
       "tensor([ 0.2327, -0.0438])"
      ]
     },
     "execution_count": 28,
     "metadata": {},
     "output_type": "execute_result"
    }
   ],
   "source": [
    "training_loop(n_epochs = 100,\n",
    "              learning_rate = 0.0001,\n",
    "              params = torch.tensor([1.0, 0.0]),\n",
    "              t_c = t_c,\n",
    "              t_u = t_u)"
   ]
  },
  {
   "cell_type": "code",
   "execution_count": 36,
   "id": "d47d18b2-adb3-4424-837a-ef6d54bb7a0c",
   "metadata": {},
   "outputs": [
    {
     "name": "stdout",
     "output_type": "stream",
     "text": [
      "epoch 1000, loss 3.828538\n",
      "epoch 2000, loss 2.957698\n",
      "epoch 3000, loss 2.928648\n",
      "epoch 4000, loss 2.927680\n",
      "epoch 5000, loss 2.927648\n",
      "epoch 6000, loss 2.927647\n",
      "epoch 7000, loss 2.927645\n",
      "epoch 8000, loss 2.927645\n",
      "epoch 9000, loss 2.927645\n",
      "epoch 10000, loss 2.927645\n"
     ]
    }
   ],
   "source": [
    "t_un = 0.1 * t_u\n",
    "params = training_loop(n_epochs = 10000,\n",
    "              learning_rate = 0.01,\n",
    "              params = torch.tensor([1.0, 0.0]),\n",
    "              t_c = t_c,\n",
    "              t_u = t_un)"
   ]
  },
  {
   "cell_type": "code",
   "execution_count": 55,
   "id": "d6a611b8-8d64-4f09-9278-0d641dbf5b95",
   "metadata": {},
   "outputs": [
    {
     "data": {
      "text/plain": [
       "[<matplotlib.lines.Line2D at 0x116361f40>]"
      ]
     },
     "execution_count": 55,
     "metadata": {},
     "output_type": "execute_result"
    },
    {
     "data": {
      "image/png": "[encoded data removed]",
      "text/plain": [
       "<Figure size 640x480 with 1 Axes>"
      ]
     },
     "metadata": {},
     "output_type": "display_data"
    }
   ],
   "source": [
    "from matplotlib import pyplot as plt\n",
    "\n",
    "t_p = model(t_un, *params)\n",
    "plt.figure(dpi = 100)\n",
    "plt.xlabel(\"measurement\")\n",
    "plt.ylabel(\"celcius\")\n",
    "plt.plot(t_u.numpy(), t_p.numpy())\n",
    "plt.plot(t_u.numpy(), t_c.numpy(), 'o')"
   ]
  },
  {
   "cell_type": "code",
   "execution_count": 71,
   "id": "308db7f1-259d-41e4-8866-227f772d636f",
   "metadata": {},
   "outputs": [
    {
     "data": {
      "text/plain": [
       "tensor([-77.6140, -10.6400])"
      ]
     },
     "execution_count": 71,
     "metadata": {},
     "output_type": "execute_result"
    }
   ],
   "source": [
    "params = torch.tensor([1.0, 0.0], requires_grad=True)\n",
    "\n",
    "loss = loss_fn(model(t_un, *params), t_c)\n",
    "if params.grad is not None:\n",
    "    params.grad.zero_()\n",
    "loss.backward() #forcing back propagation\n",
    "params.grad\n",
    "loss = loss_fn(model(t_un, *params), t_c)\n",
    "if params.grad is not None:\n",
    "    params.grad.zero_()\n",
    "loss.backward() #forcing back propagation\n",
    "params.grad\n",
    "loss = loss_fn(model(t_un, *params), t_c)\n",
    "if params.grad is not None:\n",
    "    params.grad.zero_()\n",
    "loss.backward() #forcing back propagation\n",
    "params.grad\n"
   ]
  },
  {
   "cell_type": "code",
   "execution_count": 74,
   "id": "65b1e347-3f25-4c5c-97c8-8f29ce86cb93",
   "metadata": {},
   "outputs": [],
   "source": [
    "def training_loop_2(n_epochs, learning_rate, params, t_c, t_u):\n",
    "    for epoch in range(1, 1 + n_epochs):\n",
    "        t_p = model(t_u, *params)\n",
    "        loss = loss_fn(t_p, t_c)\n",
    "        if params.grad is not None:\n",
    "            params.grad.zero_()\n",
    "        loss.backward() # gradient is computed and stored in params.grad\n",
    "        with torch.no_grad():\n",
    "            params -= learning_rate * params.grad #gradient descent\n",
    "        if epoch % 1000 == 0:\n",
    "            print('epoch %d, loss %f' %(epoch, loss))\n",
    "    return params"
   ]
  },
  {
   "cell_type": "code",
   "execution_count": 75,
   "id": "869b561e-727b-4063-9f92-046e6fb03a3f",
   "metadata": {},
   "outputs": [
    {
     "name": "stdout",
     "output_type": "stream",
     "text": [
      "epoch 1000, loss 3.828538\n",
      "epoch 2000, loss 2.957698\n",
      "epoch 3000, loss 2.928648\n",
      "epoch 4000, loss 2.927679\n",
      "epoch 5000, loss 2.927647\n",
      "epoch 6000, loss 2.927647\n",
      "epoch 7000, loss 2.927645\n",
      "epoch 8000, loss 2.927645\n",
      "epoch 9000, loss 2.927645\n",
      "epoch 10000, loss 2.927645\n"
     ]
    }
   ],
   "source": [
    "params = training_loop_2(n_epochs=10000,\n",
    "                         learning_rate= 0.01,\n",
    "                         params =  torch.tensor([1.0, 0.0], requires_grad=True),\n",
    "                         t_c = t_c,\n",
    "                         t_u = t_un)"
   ]
  },
  {
   "cell_type": "code",
   "execution_count": 77,
   "id": "561a1078-6e5d-4c33-b8b1-c9b1369228f5",
   "metadata": {},
   "outputs": [
    {
     "data": {
      "text/plain": [
       "tensor([  5.3676, -17.3042], requires_grad=True)"
      ]
     },
     "execution_count": 77,
     "metadata": {},
     "output_type": "execute_result"
    }
   ],
   "source": [
    "params"
   ]
  },
  {
   "cell_type": "code",
   "execution_count": 79,
   "id": "a7a49bea-10e9-4456-b152-21d80e892473",
   "metadata": {},
   "outputs": [
    {
     "data": {
      "text/plain": [
       "['ASGD',\n",
       " 'Adadelta',\n",
       " 'Adagrad',\n",
       " 'Adam',\n",
       " 'AdamW',\n",
       " 'Adamax',\n",
       " 'LBFGS',\n",
       " 'NAdam',\n",
       " 'Optimizer',\n",
       " 'RAdam',\n",
       " 'RMSprop',\n",
       " 'Rprop',\n",
       " 'SGD',\n",
       " 'SparseAdam',\n",
       " '__builtins__',\n",
       " '__cached__',\n",
       " '__doc__',\n",
       " '__file__',\n",
       " '__loader__',\n",
       " '__name__',\n",
       " '__package__',\n",
       " '__path__',\n",
       " '__spec__',\n",
       " '_functional',\n",
       " '_multi_tensor',\n",
       " 'lr_scheduler',\n",
       " 'swa_utils']"
      ]
     },
     "execution_count": 79,
     "metadata": {},
     "output_type": "execute_result"
    }
   ],
   "source": [
    "import torch.optim as optim\n",
    "\n",
    "dir(optim)"
   ]
  },
  {
   "cell_type": "code",
   "execution_count": 81,
   "id": "234b5ad0-20cb-4e66-838d-7b19cb97604b",
   "metadata": {},
   "outputs": [
    {
     "data": {
      "text/plain": [
       "tensor([-3.5173, -0.0826], requires_grad=True)"
      ]
     },
     "execution_count": 81,
     "metadata": {},
     "output_type": "execute_result"
    }
   ],
   "source": [
    "params = torch.tensor([1.0, 0.0], requires_grad = True)\n",
    "learning_rate = 0.001\n",
    "optimizer = optim.SGD([params], lr=learning_rate)\n",
    "t_p = model(t_u, *params)\n",
    "loss = loss_fn(t_p, t_c)\n",
    "optimizer.zero_grad()\n",
    "loss.backward()\n",
    "optimizer.step()\n",
    "params"
   ]
  },
  {
   "cell_type": "code",
   "execution_count": 83,
   "id": "ce3e88fc-cb33-4be0-a82e-3389731774b5",
   "metadata": {},
   "outputs": [],
   "source": [
    "def training_loop_3(n_epochs, optimizer, params, t_u, t_c):\n",
    "    for epoch in range(1, 1 + n_epochs):\n",
    "        t_p = model(t_u, *params)\n",
    "        loss = loss_fn(t_p, t_c)\n",
    "        optimizer.zero_grad()\n",
    "        loss.backward()\n",
    "        optimizer.step()\n",
    "        if epoch % 1000 == 0:\n",
    "            print('epoch %d, loss %f' %(epoch, loss))\n",
    "    return params"
   ]
  },
  {
   "cell_type": "code",
   "execution_count": 85,
   "id": "cf382a4c-39cd-4b62-9ae2-92f8f5ae34b5",
   "metadata": {},
   "outputs": [
    {
     "name": "stdout",
     "output_type": "stream",
     "text": [
      "epoch 1000, loss 3.828538\n",
      "epoch 2000, loss 2.957698\n",
      "epoch 3000, loss 2.928648\n",
      "epoch 4000, loss 2.927679\n",
      "epoch 5000, loss 2.927647\n",
      "epoch 6000, loss 2.927647\n",
      "epoch 7000, loss 2.927645\n",
      "epoch 8000, loss 2.927645\n",
      "epoch 9000, loss 2.927645\n",
      "epoch 10000, loss 2.927645\n"
     ]
    },
    {
     "data": {
      "text/plain": [
       "tensor([  5.3676, -17.3042], requires_grad=True)"
      ]
     },
     "execution_count": 85,
     "metadata": {},
     "output_type": "execute_result"
    }
   ],
   "source": [
    "params = torch.tensor([1.0, 0.0], requires_grad = True)\n",
    "\n",
    "training_loop_3(n_epochs=10000,\n",
    "                optimizer=optim.SGD([params], lr = 0.01),\n",
    "                params = params,\n",
    "                t_c = t_c,\n",
    "                t_u = t_un)"
   ]
  },
  {
   "cell_type": "code",
   "execution_count": 89,
   "id": "bfd4d142-c510-42da-a0a0-11801eceb217",
   "metadata": {},
   "outputs": [
    {
     "name": "stdout",
     "output_type": "stream",
     "text": [
      "epoch 1000, loss 15.752771\n",
      "epoch 2000, loss 5.767542\n",
      "epoch 3000, loss 3.196812\n",
      "epoch 4000, loss 2.933181\n",
      "epoch 5000, loss 2.927654\n",
      "epoch 6000, loss 2.927646\n",
      "epoch 7000, loss 2.927646\n",
      "epoch 8000, loss 2.927646\n",
      "epoch 9000, loss 2.927646\n",
      "epoch 10000, loss 2.927646\n"
     ]
    },
    {
     "data": {
      "text/plain": [
       "tensor([  5.3677, -17.3048], requires_grad=True)"
      ]
     },
     "execution_count": 89,
     "metadata": {},
     "output_type": "execute_result"
    }
   ],
   "source": [
    "params = torch.tensor([1.0, 0.0], requires_grad = True)\n",
    "\n",
    "training_loop_3(n_epochs=10000,\n",
    "                optimizer=optim.Adam([params], lr = 0.01),\n",
    "                params = params,\n",
    "                t_c = t_c,\n",
    "                t_u = t_un)"
   ]
  },
  {
   "cell_type": "code",
   "execution_count": 100,
   "id": "051be4b6-a2ac-4230-b9e3-c97cd4285bab",
   "metadata": {},
   "outputs": [],
   "source": [
    "n_samples = t_u.size(0)\n",
    "n_val = int (0.2 * n_samples)\n",
    "\n",
    "random_indexes = torch.randperm(n_samples)\n",
    "train_indexes = random_indexes[:-n_val]\n",
    "val_indexes = random_indexes[-n_val:]\n",
    "random_indexes, train_indexes, val_indexes\n",
    "\n",
    "train_t_c = t_c[train_indexes]\n",
    "train_t_u = t_u[train_indexes]\n",
    "val_t_c = t_c[val_indexes]\n",
    "val_t_u = t_u[val_indexes]\n",
    "\n",
    "train_t_un = train_t_u * 0.1\n",
    "val_t_un = val_t_u * 0.1"
   ]
  },
  {
   "cell_type": "code",
   "execution_count": 107,
   "id": "bba52484-2aeb-48cd-9f3a-65beb79d7c31",
   "metadata": {},
   "outputs": [],
   "source": [
    "def training_loop_4(n_epochs, optimizer, params, train_t_c, train_t_u, val_t_c, val_t_u):\n",
    "    for epoch in range(1, 1 + n_epochs):\n",
    "        train_t_p = model(train_t_u, *params)\n",
    "        val_t_p = model(val_t_u, *params)\n",
    "        \n",
    "        train_loss = loss_fn(train_t_p, train_t_c)\n",
    "        val_loss = loss_fn(val_t_p, val_t_c)\n",
    "        \n",
    "        optimizer.zero_grad()\n",
    "        train_loss.backward()\n",
    "        optimizer.step()\n",
    "        \n",
    "        if (epoch <= 5 or epoch % 1000 == 0):\n",
    "            print('epoch %d, training loss %f, validation loss %f' %(epoch, train_loss, val_loss))\n",
    "        \n",
    "    return params"
   ]
  },
  {
   "cell_type": "code",
   "execution_count": 108,
   "id": "ef8ab2f8-0f66-484c-bcc1-466ba2d3e7a9",
   "metadata": {},
   "outputs": [
    {
     "name": "stdout",
     "output_type": "stream",
     "text": [
      "epoch 1, training loss 74.897476, validation loss 104.965248\n",
      "epoch 2, training loss 34.046864, validation loss 56.643517\n",
      "epoch 3, training loss 27.602421, validation loss 47.368874\n",
      "epoch 4, training loss 26.529606, validation loss 45.181160\n",
      "epoch 5, training loss 26.295618, validation loss 44.491440\n",
      "epoch 1000, training loss 3.785444, validation loss 7.284127\n",
      "epoch 2000, training loss 3.006746, validation loss 3.929180\n",
      "epoch 3000, training loss 2.980241, validation loss 3.431228\n",
      "epoch 4000, training loss 2.979341, validation loss 3.343500\n",
      "epoch 5000, training loss 2.979309, validation loss 3.327466\n",
      "epoch 6000, training loss 2.979309, validation loss 3.324416\n",
      "epoch 7000, training loss 2.979307, validation loss 3.324381\n",
      "epoch 8000, training loss 2.979307, validation loss 3.324381\n",
      "epoch 9000, training loss 2.979307, validation loss 3.324381\n",
      "epoch 10000, training loss 2.979307, validation loss 3.324381\n"
     ]
    },
    {
     "data": {
      "text/plain": [
       "tensor([  5.1576, -16.2434], requires_grad=True)"
      ]
     },
     "execution_count": 108,
     "metadata": {},
     "output_type": "execute_result"
    }
   ],
   "source": [
    "params = torch.tensor([1.0, 0.0], requires_grad = True)\n",
    "\n",
    "params = training_loop_4(n_epochs=10000,\n",
    "                         optimizer=optim.SGD([params], lr = 0.01),\n",
    "                         params = params,\n",
    "                         train_t_c=train_t_c,\n",
    "                         train_t_u=train_t_un,\n",
    "                         val_t_c=val_t_c,\n",
    "                         val_t_u=val_t_un)\n",
    "params"
   ]
  },
  {
   "cell_type": "code",
   "execution_count": null,
   "id": "93177e82-118d-428c-ac34-538d64e7691d",
   "metadata": {},
   "outputs": [],
   "source": []
  }
 ],
 "metadata": {
  "kernelspec": {
   "display_name": "Python 3 (ipykernel)",
   "language": "python",
   "name": "python3"
  },
  "language_info": {
   "codemirror_mode": {
    "name": "ipython",
    "version": 3
   },
   "file_extension": ".py",
   "mimetype": "text/x-python",
   "name": "python",
   "nbconvert_exporter": "python",
   "pygments_lexer": "ipython3",
   "version": "3.9.6"
  }
 },
 "nbformat": 4,
 "nbformat_minor": 5
}
